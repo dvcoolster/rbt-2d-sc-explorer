{
  "cells": [
    {
      "cell_type": "code",
      "execution_count": null,
      "metadata": {
        "vscode": {
          "languageId": "plaintext"
        }
      },
      "outputs": [],
      "source": [
        "# RBT Superconductor Analysis Dashboard\n",
        "## Interactive Tc vs Bond Length Analysis\n",
        "\n",
        "This notebook provides interactive visualization tools for analyzing 2-D superconductor candidates using the RBT (Replication-Based Theory) framework.\n",
        "\n",
        "### Key Features:\n",
        "- Parity analysis (K = 0 test)\n",
        "- Bond quantum energy estimation (ħω*/π)\n",
        "- Predicted Tc vs bond length relationships\n",
        "- Interactive structure visualization\n",
        "\n",
        "### RBT Criteria:\n",
        "1. **Parity condition**: K = 0 (even number of odd-degree vertices)\n",
        "2. **Energy condition**: ħω*/π ≥ 0.081 eV\n",
        "3. **Expected Tc**: T_c ∝ (ħω*/π)^2 for successful candidates\n"
      ]
    },
    {
      "cell_type": "code",
      "execution_count": null,
      "metadata": {},
      "outputs": [],
      "source": [
        "# Import required libraries\n",
        "import numpy as np\n",
        "import pandas as pd\n",
        "import matplotlib.pyplot as plt\n",
        "import plotly.graph_objects as go\n",
        "import plotly.express as px\n",
        "from plotly.subplots import make_subplots\n",
        "import seaborn as sns\n",
        "import os\n",
        "import sys\n",
        "import warnings\n",
        "warnings.filterwarnings('ignore')\n",
        "\n",
        "# Add scripts directory to path\n",
        "sys.path.append('.')\n",
        "\n",
        "# Import our RBT analysis tools\n",
        "from parity_check import RBTParityChecker\n",
        "from bond_quantum import BondQuantumAnalyzer\n",
        "\n",
        "# Set style\n",
        "plt.style.use('seaborn-v0_8')\n",
        "sns.set_palette(\"husl\")\n",
        "\n",
        "print(\"🚀 RBT Analysis Dashboard Loaded\")\n",
        "print(\"Ready to analyze 2-D superconductor candidates!\")\n"
      ]
    },
    {
      "cell_type": "code",
      "execution_count": null,
      "metadata": {},
      "outputs": [],
      "source": [
        "## 1. Batch Analysis of Example Structures\n"
      ]
    },
    {
      "cell_type": "code",
      "execution_count": null,
      "metadata": {},
      "outputs": [],
      "source": [
        "def analyze_structure_batch(cif_directory=\"../data/example_CIFs/\"):\n",
        "    \"\"\"\n",
        "    Analyze all CIF files in a directory and compile results.\n",
        "    \"\"\"\n",
        "    # Initialize analyzers\n",
        "    parity_checker = RBTParityChecker()\n",
        "    bond_analyzer = BondQuantumAnalyzer()\n",
        "    \n",
        "    results = []\n",
        "    \n",
        "    # Find all CIF files\n",
        "    cif_files = [f for f in os.listdir(cif_directory) if f.endswith('.cif')]\n",
        "    \n",
        "    print(f\"Found {len(cif_files)} CIF files to analyze...\")\n",
        "    \n",
        "    for cif_file in cif_files:\n",
        "        filepath = os.path.join(cif_directory, cif_file)\n",
        "        print(f\"\\nAnalyzing: {cif_file}\")\n",
        "        \n",
        "        try:\n",
        "            # Parity analysis\n",
        "            parity_results = parity_checker.analyze_structure(filepath)\n",
        "            \n",
        "            # Bond quantum analysis  \n",
        "            bond_results = bond_analyzer.analyze_structure(filepath)\n",
        "            \n",
        "            # Compile results\n",
        "            result = {\n",
        "                'file': cif_file,\n",
        "                'formula': parity_results['formula'],\n",
        "                'K_parity': parity_results['K_parity'],\n",
        "                'parity_pass': parity_results['passes_parity_test'],\n",
        "                'phonon_energy_meV': bond_results['phonon_energy_meV'],\n",
        "                'phonon_energy_eV': bond_results['phonon_energy_eV'],\n",
        "                'energy_pass': bond_results['passes_energy_test'],\n",
        "                'both_pass': (parity_results['passes_parity_test'] and \n",
        "                             bond_results['passes_energy_test']),\n",
        "                'shortest_bond_distance': (bond_results['shortest_bond']['distance'] \n",
        "                                         if bond_results['shortest_bond'] else None),\n",
        "                'shortest_bond_type': (bond_results['shortest_bond']['bond_type'] \n",
        "                                     if bond_results['shortest_bond'] else None)\n",
        "            }\n",
        "            \n",
        "            results.append(result)\n",
        "            \n",
        "        except Exception as e:\n",
        "            print(f\"  ❌ Error analyzing {cif_file}: {e}\")\n",
        "            continue\n",
        "    \n",
        "    return pd.DataFrame(results)\n",
        "\n",
        "# Run batch analysis\n",
        "df_results = analyze_structure_batch()\n",
        "print(f\"\\n✅ Analysis complete! {len(df_results)} structures analyzed.\")\n"
      ]
    }
  ],
  "metadata": {
    "language_info": {
      "name": "python"
    }
  },
  "nbformat": 4,
  "nbformat_minor": 2
}
